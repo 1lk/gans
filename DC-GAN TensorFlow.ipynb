{
 "cells": [
  {
   "cell_type": "code",
   "execution_count": 1,
   "metadata": {},
   "outputs": [
    {
     "name": "stderr",
     "output_type": "stream",
     "text": [
      "/Users/diego/.pyenv/versions/miniconda-latest/lib/python2.7/site-packages/subprocess32.py:472: RuntimeWarning: The _posixsubprocess module is not being used. Child process reliability may suffer if your program uses threads.\n",
      "  \"program uses threads.\", RuntimeWarning)\n"
     ]
    }
   ],
   "source": [
    "%load_ext autoreload\n",
    "%matplotlib inline"
   ]
  },
  {
   "cell_type": "code",
   "execution_count": 2,
   "metadata": {},
   "outputs": [
    {
     "name": "stderr",
     "output_type": "stream",
     "text": [
      "Using TensorFlow backend.\n"
     ]
    }
   ],
   "source": [
    "%autoreload 2\n",
    "\n",
    "import scipy\n",
    "import tensorflow as tf\n",
    "from tensorflow import nn, layers\n",
    "from tensorflow.contrib import layers as clayers \n",
    "from keras.datasets import cifar10\n",
    "from keras.preprocessing.image import ImageDataGenerator\n",
    "import numpy as np"
   ]
  },
  {
   "cell_type": "code",
   "execution_count": 3,
   "metadata": {},
   "outputs": [],
   "source": [
    "DATA_FOLDER = './tf_data/DCGAN/CIFAR'"
   ]
  },
  {
   "cell_type": "markdown",
   "metadata": {},
   "source": [
    "## Load Data"
   ]
  },
  {
   "cell_type": "code",
   "execution_count": 4,
   "metadata": {
    "scrolled": true
   },
   "outputs": [
    {
     "data": {
      "text/plain": [
       "(50000, 32, 32, 3)"
      ]
     },
     "execution_count": 4,
     "metadata": {},
     "output_type": "execute_result"
    }
   ],
   "source": [
    "def load_data():\n",
    "    (x_train, _), (x_test, _) = cifar10.load_data()\n",
    "    # Rescale to range [0, 1]\n",
    "    x = x_train.astype(float)/255 # * 2 - 1\n",
    "    # Shuffle\n",
    "    np.random.shuffle(x)\n",
    "    return x\n",
    "\n",
    "data = load_data()\n",
    "data.shape"
   ]
  },
  {
   "cell_type": "code",
   "execution_count": 5,
   "metadata": {},
   "outputs": [],
   "source": [
    "IMAGES_SHAPE = (64, 64, 3)"
   ]
  },
  {
   "cell_type": "markdown",
   "metadata": {},
   "source": [
    "## Initialize Graph"
   ]
  },
  {
   "cell_type": "code",
   "execution_count": 6,
   "metadata": {},
   "outputs": [],
   "source": [
    "def default_conv2d(input, filters):\n",
    "    return layers.conv2d(\n",
    "        input,\n",
    "        filters=filters,\n",
    "        kernel_size=4,\n",
    "        strides=(2, 2),\n",
    "        padding='valid',\n",
    "        data_format='channels_last',\n",
    "        use_bias=False\n",
    "    )"
   ]
  },
  {
   "cell_type": "markdown",
   "metadata": {},
   "source": [
    "#### Discriminator"
   ]
  },
  {
   "cell_type": "code",
   "execution_count": 7,
   "metadata": {
    "scrolled": false
   },
   "outputs": [
    {
     "data": {
      "text/plain": [
       "<tf.Tensor 'd/linear/Sigmoid:0' shape=(?, 1) dtype=float32>"
      ]
     },
     "execution_count": 7,
     "metadata": {},
     "output_type": "execute_result"
    }
   ],
   "source": [
    "## Input\n",
    "X = tf.placeholder(tf.float32, shape=(None, )+IMAGES_SHAPE)\n",
    "\n",
    "def discriminator(x):\n",
    "    with tf.variable_scope(\"d\"):\n",
    "        with tf.variable_scope(\"conv1\"):\n",
    "            conv1 = default_conv2d(x, 128)\n",
    "            conv1 = nn.leaky_relu(conv1,alpha=0.2)\n",
    "        \n",
    "        with tf.variable_scope(\"conv2\"):\n",
    "            conv2 = default_conv2d(conv1, 256)\n",
    "            conv2 = layers.batch_normalization(conv2)\n",
    "            conv2 = nn.leaky_relu(conv2,alpha=0.2)\n",
    "            \n",
    "        with tf.variable_scope(\"conv3\"):\n",
    "            conv3 = default_conv2d(conv2, 512)\n",
    "            conv3 = layers.batch_normalization(conv3)\n",
    "            conv3 = nn.leaky_relu(conv3,alpha=0.2)\n",
    "            \n",
    "        with tf.variable_scope(\"conv4\"):\n",
    "            conv4 = default_conv2d(conv3, 1024)\n",
    "            conv4 = layers.batch_normalization(conv3)\n",
    "            conv4 = nn.leaky_relu(conv3,alpha=0.2)\n",
    "        \n",
    "        with tf.variable_scope(\"linear\"):\n",
    "            linear = clayers.flatten(conv4)\n",
    "            linear = clayers.fully_connected(linear, 1)\n",
    "        \n",
    "        with tf.variable_scope(\"out\"):\n",
    "            out = nn.sigmoid(linear)\n",
    "    return out"
   ]
  },
  {
   "cell_type": "code",
   "execution_count": null,
   "metadata": {},
   "outputs": [],
   "source": []
  },
  {
   "cell_type": "code",
   "execution_count": null,
   "metadata": {},
   "outputs": [],
   "source": []
  }
 ],
 "metadata": {
  "kernelspec": {
   "display_name": "Python 2",
   "language": "python",
   "name": "python2"
  },
  "language_info": {
   "codemirror_mode": {
    "name": "ipython",
    "version": 2
   },
   "file_extension": ".py",
   "mimetype": "text/x-python",
   "name": "python",
   "nbconvert_exporter": "python",
   "pygments_lexer": "ipython2",
   "version": "2.7.14"
  }
 },
 "nbformat": 4,
 "nbformat_minor": 2
}
