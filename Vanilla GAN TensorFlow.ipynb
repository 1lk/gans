{
 "cells": [
  {
   "cell_type": "code",
   "execution_count": 1,
   "metadata": {},
   "outputs": [],
   "source": [
    "from IPython import display\n",
    "\n",
    "from matplotlib import pyplot as plt\n",
    "%matplotlib inline\n",
    "\n",
    "import math, itertools\n",
    "\n",
    "import tensorflow as tf\n",
    "from scipy import special\n",
    "import numpy as np\n",
    "from tensorflow.examples.tutorials.mnist import input_data"
   ]
  },
  {
   "cell_type": "code",
   "execution_count": 2,
   "metadata": {},
   "outputs": [],
   "source": [
    "IMAGE_PIXELS = 28*28\n",
    "NOISE_SIZE = 100"
   ]
  },
  {
   "cell_type": "code",
   "execution_count": 3,
   "metadata": {},
   "outputs": [],
   "source": [
    "def noise(n_rows, n_cols):\n",
    "    return np.random.normal(size=(n_rows, n_cols))\n",
    "\n",
    "def xavier_init(size):\n",
    "    in_dim = size[0] if len(size) == 1 else size[1]\n",
    "    stddev = 1. / math.sqrt(float(in_dim))\n",
    "    return tf.random_uniform(shape=size, minval=-stddev, maxval=stddev)"
   ]
  },
  {
   "cell_type": "markdown",
   "metadata": {},
   "source": [
    "## Load Data"
   ]
  },
  {
   "cell_type": "code",
   "execution_count": 4,
   "metadata": {
    "scrolled": true
   },
   "outputs": [
    {
     "name": "stdout",
     "output_type": "stream",
     "text": [
      "Extracting tf_data/train-images-idx3-ubyte.gz\n",
      "Extracting tf_data/train-labels-idx1-ubyte.gz\n",
      "Extracting tf_data/t10k-images-idx3-ubyte.gz\n",
      "Extracting tf_data/t10k-labels-idx1-ubyte.gz\n"
     ]
    }
   ],
   "source": [
    "# No rescaling needed. MNIST data is in range [0, 1]\n",
    "mnist = input_data.read_data_sets(\"tf_data/\")\n",
    "mnist_data = (mnist.train.images - .5 ) / .5\n",
    "np.random.shuffle(mnist_data)"
   ]
  },
  {
   "cell_type": "markdown",
   "metadata": {},
   "source": [
    "## Initialize Graph"
   ]
  },
  {
   "cell_type": "code",
   "execution_count": 5,
   "metadata": {},
   "outputs": [],
   "source": [
    "## Discriminator\n",
    "\n",
    "# Input\n",
    "X = tf.placeholder(tf.float32, shape=(None, IMAGE_PIXELS))\n",
    "\n",
    "# Layer 1 Variables\n",
    "D_W1 = tf.Variable(xavier_init([784, 1024]))\n",
    "D_B1 = tf.Variable(xavier_init([1024]))\n",
    "\n",
    "# Layer 2 Variables\n",
    "D_W2 = tf.Variable(xavier_init([1024, 512]))\n",
    "D_B2 = tf.Variable(xavier_init([512]))\n",
    "\n",
    "# Layer 3 Variables\n",
    "D_W3 = tf.Variable(xavier_init([512, 256]))\n",
    "D_B3 = tf.Variable(xavier_init([256]))\n",
    "\n",
    "# Out Layer Variables\n",
    "D_W4 = tf.Variable(xavier_init([256, 1]))\n",
    "D_B4 = tf.Variable(xavier_init([1]))\n",
    "\n",
    "# Store Variables in list\n",
    "D_var_list = [D_W1, D_B1, D_W2, D_B2, D_W3, D_B3, D_W4, D_B4]"
   ]
  },
  {
   "cell_type": "code",
   "execution_count": 6,
   "metadata": {},
   "outputs": [],
   "source": [
    "## Generator\n",
    "\n",
    "# Input\n",
    "Z = tf.placeholder(tf.float32, shape=(None, NOISE_SIZE))\n",
    "\n",
    "# Layer 1 Variables\n",
    "G_W1 = tf.Variable(xavier_init([100, 256]))\n",
    "G_B1 = tf.Variable(xavier_init([256]))\n",
    "\n",
    "# Layer 2 Variables\n",
    "G_W2 = tf.Variable(xavier_init([256, 512]))\n",
    "G_B2 = tf.Variable(xavier_init([512]))\n",
    "\n",
    "# Layer 3 Variables\n",
    "G_W3 = tf.Variable(xavier_init([512, 1024]))\n",
    "G_B3 = tf.Variable(xavier_init([1024]))\n",
    "\n",
    "# Out Layer Variables\n",
    "G_W4 = tf.Variable(xavier_init([1024, 784]))\n",
    "G_B4 = tf.Variable(xavier_init([784]))\n",
    "\n",
    "# Store Variables in list\n",
    "G_var_list = [G_W1, G_B1, G_W2, G_B2, G_W3, G_B3, G_W4, G_B4]"
   ]
  },
  {
   "cell_type": "code",
   "execution_count": 7,
   "metadata": {},
   "outputs": [],
   "source": [
    "def discriminator(x):\n",
    "    l1 = tf.nn.dropout(tf.nn.leaky_relu(tf.matmul(x,   D_W1) + D_B1, .2), .3)\n",
    "    l2 = tf.nn.dropout(tf.nn.leaky_relu(tf.matmul(l1,  D_W2) + D_B2, .2), .3)\n",
    "    l3 = tf.nn.dropout(tf.nn.leaky_relu(tf.matmul(l2,  D_W3) + D_B3, .2), .3)\n",
    "    out = tf.matmul(l3, D_W4) + D_B4\n",
    "    return out\n",
    "\n",
    "def generator(z):\n",
    "    l1 = tf.nn.leaky_relu(tf.matmul(z,  G_W1) + G_B1, .2)\n",
    "    l2 = tf.nn.leaky_relu(tf.matmul(l1, G_W2) + G_B2, .2)\n",
    "    l3 = tf.nn.leaky_relu(tf.matmul(l2, G_W3) + G_B3, .2)\n",
    "    out = tf.nn.tanh(tf.matmul(l3, G_W4) + G_B4)\n",
    "    return out"
   ]
  },
  {
   "cell_type": "code",
   "execution_count": 8,
   "metadata": {},
   "outputs": [],
   "source": [
    "G_sample = generator(Z)\n",
    "D_real = discriminator(X)\n",
    "D_fake = discriminator(G_sample)\n",
    "\n",
    "# Losses\n",
    "D_loss_real = tf.reduce_mean(tf.nn.sigmoid_cross_entropy_with_logits(logits=D_real, labels=tf.ones_like(D_real)))\n",
    "D_loss_fake = tf.reduce_mean(tf.nn.sigmoid_cross_entropy_with_logits(logits=D_fake, labels=tf.zeros_like(D_fake)))\n",
    "D_loss = D_loss_real + D_loss_fake\n",
    "G_loss = tf.reduce_mean(tf.nn.sigmoid_cross_entropy_with_logits(logits=D_fake, labels=tf.ones_like(D_fake)))\n",
    "\n",
    "# Optimizers\n",
    "D_opt = tf.train.AdamOptimizer(2e-4).minimize(D_loss, var_list=D_var_list)\n",
    "G_opt = tf.train.AdamOptimizer(2e-4).minimize(G_loss, var_list=G_var_list)"
   ]
  },
  {
   "cell_type": "markdown",
   "metadata": {},
   "source": [
    "## Train"
   ]
  },
  {
   "cell_type": "code",
   "execution_count": 9,
   "metadata": {},
   "outputs": [],
   "source": [
    "BATCH_SIZE = 100\n",
    "NUM_EPOCHS = 200"
   ]
  },
  {
   "cell_type": "code",
   "execution_count": 10,
   "metadata": {
    "scrolled": false
   },
   "outputs": [
    {
     "data": {
      "image/png": "[encoded data removed]",
      "text/plain": [
       "<matplotlib.figure.Figure at 0x7fa4d6492d68>"
      ]
     },
     "metadata": {},
     "output_type": "display_data"
    },
    {
     "name": "stdout",
     "output_type": "stream",
     "text": [
      "Epoch: 199 Batch: 500\n",
      "Discriminator Loss: 1.3507, Generator Loss: 0.7361\n",
      "D(x): 0.5094, D(G(z)): 0.4833\n"
     ]
    },
    {
     "data": {
      "image/png": "[encoded data removed]",
      "text/plain": [
       "<matplotlib.figure.Figure at 0x7fa4d6492d68>"
      ]
     },
     "metadata": {},
     "output_type": "display_data"
    }
   ],
   "source": [
    "# create figure for plotting\n",
    "size_figure_grid = int(math.sqrt(16))\n",
    "fig, ax = plt.subplots(size_figure_grid, size_figure_grid, figsize=(6, 6))\n",
    "for i, j in itertools.product(range(size_figure_grid), range(size_figure_grid)):\n",
    "    ax[i,j].get_xaxis().set_visible(False)\n",
    "    ax[i,j].get_yaxis().set_visible(False)\n",
    "\n",
    "\n",
    "# Start interactive session\n",
    "session = tf.InteractiveSession()\n",
    "# Init Variables\n",
    "tf.global_variables_initializer().run()\n",
    "\n",
    "# Iterate through epochs\n",
    "for epoch in range(NUM_EPOCHS):\n",
    "    for n_batch in range(mnist_data.shape[0] // BATCH_SIZE):\n",
    "        # Train Discriminator\n",
    "        X_batch = mnist_data[ (n_batch * BATCH_SIZE):(n_batch * BATCH_SIZE)+BATCH_SIZE]\n",
    "        feed_dict = {X: X_batch, Z: noise(BATCH_SIZE, NOISE_SIZE)}\n",
    "        _, D_loss_i, D_real_i, D_fake_i = session.run([D_opt, D_loss, D_real, D_fake], feed_dict=feed_dict)\n",
    "\n",
    "        # Train Generator\n",
    "        feed_dict = {Z: noise(BATCH_SIZE, NOISE_SIZE)}\n",
    "        _, G_loss_i, G_sample_i = session.run([G_opt, G_loss, G_sample], feed_dict=feed_dict)\n",
    "\n",
    "        if n_batch % 100 == 0:\n",
    "            display.clear_output(True)\n",
    "            for k in range(16):\n",
    "                i = k//4\n",
    "                j = k%4\n",
    "                ax[i,j].cla()\n",
    "                ax[i,j].imshow(G_sample_i[k,:].reshape(28, 28), cmap='Greys')\n",
    "            display.display(plt.gcf())\n",
    "            print('Epoch: {} Batch: {}'.format(epoch, n_batch))\n",
    "            print('Discriminator Loss: {:.4f}, Generator Loss: {:.4f}'.format(D_loss_i, G_loss_i))\n",
    "            print('D(x): {:.4f}, D(G(z)): {:.4f}'.format(\n",
    "                special.expit(D_real_i).mean(), special.expit(D_fake_i).mean()))"
   ]
  }
 ],
 "metadata": {
  "kernelspec": {
   "display_name": "Python 2",
   "language": "python",
   "name": "python2"
  },
  "language_info": {
   "codemirror_mode": {
    "name": "ipython",
    "version": 2
   },
   "file_extension": ".py",
   "mimetype": "text/x-python",
   "name": "python",
   "nbconvert_exporter": "python",
   "pygments_lexer": "ipython2",
   "version": "2.7.14"
  }
 },
 "nbformat": 4,
 "nbformat_minor": 2
}
