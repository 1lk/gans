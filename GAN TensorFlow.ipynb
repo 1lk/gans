{
 "cells": [
  {
   "cell_type": "code",
   "execution_count": 3,
   "metadata": {},
   "outputs": [],
   "source": [
    "import tensorflow as tf\n",
    "from tensorflow.examples.tutorials.mnist import input_data"
   ]
  },
  {
   "cell_type": "markdown",
   "metadata": {},
   "source": [
    "## Load Data"
   ]
  },
  {
   "cell_type": "code",
   "execution_count": 49,
   "metadata": {},
   "outputs": [
    {
     "name": "stdout",
     "output_type": "stream",
     "text": [
      "Extracting tf_data/train-images-idx3-ubyte.gz\n",
      "Extracting tf_data/train-labels-idx1-ubyte.gz\n",
      "Extracting tf_data/t10k-images-idx3-ubyte.gz\n",
      "Extracting tf_data/t10k-labels-idx1-ubyte.gz\n"
     ]
    }
   ],
   "source": [
    "# No rescaling needed. MNIST data is in range [0, 1]\n",
    "mnist = input_data.read_data_sets(\"tf_data/\")"
   ]
  },
  {
   "cell_type": "markdown",
   "metadata": {},
   "source": [
    "## Model"
   ]
  },
  {
   "cell_type": "code",
   "execution_count": 73,
   "metadata": {},
   "outputs": [],
   "source": [
    "# Generator Neural Network\n",
    "class Generator(object):\n",
    "    def __init__(self):\n",
    "        \"\"\" Init the model with hyper-parameters etc. \"\"\"\n",
    "        with tf.variable_scope(\"G\"):\n",
    "            # Layer 1 Params\n",
    "            self.weights1 = tf.Variable(tf.zeros([784, 1024]))\n",
    "            self.biases1 = tf.Variable(tf.zeros([1024]))\n",
    "            # Layer 2 Params\n",
    "            self.weights2 = tf.Variable(tf.zeros([1024, 512]))\n",
    "            self.biases2 = tf.Variable(tf.zeros([512]))\n",
    "            # Layer 3 Params\n",
    "            self.weights3 = tf.Variable(tf.zeros([512, 256]))\n",
    "            self.biases3 = tf.Variable(tf.zeros([256]))\n",
    "            # Store params in list\n",
    "            self.param_list = [self.weights1, self.biases1, self.weights2, self.biases2, \n",
    "                               self.weights3, self.biases3]\n",
    "            \n",
    "    def inference(self, x):\n",
    "        \"\"\" This is the forward calculation from x to y \"\"\"\n",
    "        layer_1 = tf.nn.dropout(tf.nn.leaky_relu(tf.matmul(x, weights1) + biases1), .3)\n",
    "        layer_2 = tf.nn.dropout(tf.nn.leaky_relu(tf.matmul(x, weights2) + biases2), .3)\n",
    "        layer_3 = tf.nn.dropout(tf.nn.leaky_relu(tf.matmul(x, weights3) + biases3), .3)\n",
    "        return tf.tanh(layer3)\n",
    "    \n",
    "    def loss(self, batch_x, discriminator):\n",
    "        y_predict = discriminator.inference(self.inference(batch_x))\n",
    "        self.loss = tf.losses.log_loss(y, y_predict, name=\"loss\")"
   ]
  },
  {
   "cell_type": "code",
   "execution_count": null,
   "metadata": {},
   "outputs": [],
   "source": []
  },
  {
   "cell_type": "markdown",
   "metadata": {},
   "source": [
    "## Train"
   ]
  },
  {
   "cell_type": "code",
   "execution_count": 50,
   "metadata": {},
   "outputs": [],
   "source": [
    "num_epochs = 100\n",
    "\n",
    "for _ in range(num_epochs):\n",
    "    real_images, _ = mnist.train.next_batch(100)\n",
    "#    sess.run(train_step, feed_dict={x: batch_xs, y_: batch_ys})"
   ]
  }
 ],
 "metadata": {
  "kernelspec": {
   "display_name": "Python 2",
   "language": "python",
   "name": "python2"
  },
  "language_info": {
   "codemirror_mode": {
    "name": "ipython",
    "version": 2
   },
   "file_extension": ".py",
   "mimetype": "text/x-python",
   "name": "python",
   "nbconvert_exporter": "python",
   "pygments_lexer": "ipython2",
   "version": "2.7.14"
  }
 },
 "nbformat": 4,
 "nbformat_minor": 2
}
