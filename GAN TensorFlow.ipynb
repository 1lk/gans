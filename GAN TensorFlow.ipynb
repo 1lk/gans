{
 "cells": [
  {
   "cell_type": "code",
   "execution_count": 1,
   "metadata": {},
   "outputs": [],
   "source": [
    "import tensorflow as tf\n",
    "from tensorflow.examples.tutorials.mnist import input_data"
   ]
  },
  {
   "cell_type": "markdown",
   "metadata": {},
   "source": [
    "## Load Data"
   ]
  },
  {
   "cell_type": "code",
   "execution_count": 2,
   "metadata": {},
   "outputs": [
    {
     "name": "stdout",
     "output_type": "stream",
     "text": [
      "Extracting tf_data/train-images-idx3-ubyte.gz\n",
      "Extracting tf_data/train-labels-idx1-ubyte.gz\n",
      "Extracting tf_data/t10k-images-idx3-ubyte.gz\n",
      "Extracting tf_data/t10k-labels-idx1-ubyte.gz\n"
     ]
    }
   ],
   "source": [
    "# No rescaling needed. MNIST data is in range [0, 1]\n",
    "mnist = input_data.read_data_sets(\"tf_data/\")"
   ]
  },
  {
   "cell_type": "markdown",
   "metadata": {},
   "source": [
    "## Model"
   ]
  },
  {
   "cell_type": "code",
   "execution_count": 68,
   "metadata": {},
   "outputs": [],
   "source": [
    "# Discriminator Neural Network\n",
    "class Discriminator(object):\n",
    "    def __init__(self):\n",
    "        \"\"\" Init the model with hyper-parameters etc. \"\"\"\n",
    "        # Layer 1 Variables\n",
    "        self.weights1 = tf.Variable(tf.zeros([784, 1024]))\n",
    "        self.biases1 = tf.Variable(tf.zeros([1024]))\n",
    "        # Layer 2 Variables\n",
    "        self.weights2 = tf.Variable(tf.zeros([1024, 512]))\n",
    "        self.biases2 = tf.Variable(tf.zeros([512]))\n",
    "        # Layer 3 Variables\n",
    "        self.weights3 = tf.Variable(tf.zeros([512, 256]))\n",
    "        self.biases3 = tf.Variable(tf.zeros([256]))\n",
    "        # Out Layer Variables\n",
    "        self.weights4 = tf.Variable(tf.zeros([256, 1]))\n",
    "        self.biases4 = tf.Variable(tf.zeros([1]))\n",
    "        # Store Variables in list\n",
    "        self.var_list = [self.weights1, self.biases1, self.weights2, self.biases2, \n",
    "                           self.weights3, self.biases3, self.weights4, self.biases4]\n",
    "            \n",
    "    def inference(self, x):\n",
    "        \"\"\" This is the forward calculation from x to y \"\"\"\n",
    "        x = tf.nn.dropout(tf.nn.leaky_relu(tf.matmul(x, self.weights1) + self.biases1), .3)\n",
    "        x = tf.nn.dropout(tf.nn.leaky_relu(tf.matmul(x, self.weights2) + self.biases2), .3)\n",
    "        x = tf.nn.dropout(tf.nn.leaky_relu(tf.matmul(x, self.weights3) + self.biases3), .3)\n",
    "        x = tf.nn.softmax(tf.matmul(x, self.weights4) + self.biases4)\n",
    "        return x\n",
    "    \n",
    "    def loss(self, real_data, noise, generator):\n",
    "        fake_data = generator.inference(noise)\n",
    "        y_fake = self.inference(fake_data)\n",
    "        y_real = self.inference(real_data)\n",
    "        return -tf.reduce_mean(tf.log(y_real) + tf.log(1. - y_fake), name='D_loss')\n",
    "        \n",
    "    def optimize(self, real_data, noise, generator):\n",
    "        loss = self.loss(real_data, noise, generator)\n",
    "        return tf.train.AdamOptimizer().minimize(loss, name='D_optimizer',\n",
    "                                                 var_list=self.var_list)"
   ]
  },
  {
   "cell_type": "code",
   "execution_count": 69,
   "metadata": {},
   "outputs": [],
   "source": [
    "# Geneator Neural Network\n",
    "class Generator(object):\n",
    "    def __init__(self):\n",
    "        \"\"\" Init the model with hyper-parameters etc. \"\"\"\n",
    "        # Layer 1 Variables\n",
    "        self.weights1 = tf.Variable(tf.zeros([100, 256]))\n",
    "        self.biases1 = tf.Variable(tf.zeros([256]))\n",
    "        # Layer 2 Variables\n",
    "        self.weights2 = tf.Variable(tf.zeros([256, 512]))\n",
    "        self.biases2 = tf.Variable(tf.zeros([512]))\n",
    "        # Layer 3 Variables\n",
    "        self.weights3 = tf.Variable(tf.zeros([512, 1024]))\n",
    "        self.biases3 = tf.Variable(tf.zeros([1024]))\n",
    "        # Out Layer Variables\n",
    "        self.weights4 = tf.Variable(tf.zeros([1024, 784]))\n",
    "        self.biases4 = tf.Variable(tf.zeros([784]))\n",
    "        # Store Variables in list\n",
    "        self.var_list = [self.weights1, self.biases1, self.weights2, self.biases2, \n",
    "                           self.weights3, self.biases3, self.weights4, self.biases4]\n",
    "            \n",
    "    def inference(self, x):\n",
    "        \"\"\" This is the forward calculation from x to y \"\"\"\n",
    "        x = tf.nn.leaky_relu(tf.matmul(x, self.weights1) + self.biases1)\n",
    "        x = tf.nn.leaky_relu(tf.matmul(x, self.weights2) + self.biases2)\n",
    "        x = tf.nn.leaky_relu(tf.matmul(x, self.weights3) + self.biases3)\n",
    "        x = tf.nn.tanh(tf.matmul(x, self.weights4) + self.biases4)\n",
    "        return x\n",
    "    \n",
    "    def loss(self, noise, discriminator):\n",
    "        fake_data = self.inference(noise)\n",
    "        y_fake = discriminator.inference(fake_data)\n",
    "        return -tf.reduce_mean(tf.log(y_fake), name='G_loss')\n",
    "        \n",
    "    def optimize(self, noise, discriminator):\n",
    "        loss = self.loss(noise, discriminator)\n",
    "        print(loss)\n",
    "        return tf.train.AdamOptimizer().minimize(loss, name='G_optimizer',\n",
    "                                                 var_list=self.var_list)"
   ]
  },
  {
   "cell_type": "code",
   "execution_count": 70,
   "metadata": {},
   "outputs": [],
   "source": [
    "def noise(size):\n",
    "    return tf.random_normal(shape=(size,100))"
   ]
  },
  {
   "cell_type": "code",
   "execution_count": 71,
   "metadata": {},
   "outputs": [],
   "source": [
    "import numpy as np\n",
    "a = np.expand_dims(np.arange(784),axis=0)\n",
    "G_out = Generator().inference(tf.random_normal(shape=(1,100)))\n",
    "D_out = Discriminator().inference(tf.convert_to_tensor(a, np.float32))"
   ]
  },
  {
   "cell_type": "markdown",
   "metadata": {},
   "source": [
    "## Train"
   ]
  },
  {
   "cell_type": "code",
   "execution_count": 72,
   "metadata": {},
   "outputs": [],
   "source": [
    "generator = Generator()\n",
    "discriminator = Discriminator()"
   ]
  },
  {
   "cell_type": "code",
   "execution_count": null,
   "metadata": {},
   "outputs": [],
   "source": [
    "num_epochs = 100\n",
    "sess = tf.InteractiveSession()\n",
    "tf.global_variables_initializer().run()\n",
    "summary = tf.summary.merge_all()\n",
    "for _ in range(num_epochs):\n",
    "    \n",
    "    real_images, _ = mnist.train.next_batch(100)\n",
    "    \n",
    "    # Train Discriminator with real and fake data\n",
    "    G_noise = noise(real_images.shape[0])\n",
    "    opt = discriminator.optimize(real_images, G_noise, generator)\n",
    "    sess.run(opt)\n",
    "    summary_str = sess.run(summary, feed_dict=feed_dict)\n",
    "    summary_writer.add_summary(summary_str, step)\n",
    "\n",
    "\n",
    "    # Train Generator with fake data\n",
    "    D_noise = noise(real_images.shape[0])\n",
    "    generator.optimize(D_noise, discriminator)\n",
    "#    sess.run(train_step, feed_dict={x: batch_xs, y_: batch_ys})"
   ]
  },
  {
   "cell_type": "code",
   "execution_count": null,
   "metadata": {},
   "outputs": [],
   "source": []
  }
 ],
 "metadata": {
  "kernelspec": {
   "display_name": "Python 2",
   "language": "python",
   "name": "python2"
  },
  "language_info": {
   "codemirror_mode": {
    "name": "ipython",
    "version": 2
   },
   "file_extension": ".py",
   "mimetype": "text/x-python",
   "name": "python",
   "nbconvert_exporter": "python",
   "pygments_lexer": "ipython2",
   "version": "2.7.14"
  }
 },
 "nbformat": 4,
 "nbformat_minor": 2
}
